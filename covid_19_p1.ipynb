{
 "cells": [
  {
   "cell_type": "code",
   "execution_count": 2,
   "metadata": {},
   "outputs": [],
   "source": [
    "import pandas as pd\n",
    "import folium\n",
    "import json\n",
    "from folium import plugins"
   ]
  },
  {
   "cell_type": "markdown",
   "metadata": {},
   "source": [
    "# Background\n",
    "As COVID-19 continues to spread across the world, one of the greatest challenges to response efforts is a lack of data and evidence about infection and mortality rates. We will learn more about the virus and the  populations most at risk as more test kits arrive in the hands of physicians and the total number of cases becomes clearer. Ideally, this information will be used to help target response efforts, guide policy decisions, inform the donor community, and support decision-making by businesses and multinational organizations whose work spans multiple countries. As a global development company with staff in over ___ countries, this kind of information is invaluable, as we think about ways to support our staff, and prepare for what comes next.\n",
    "\n",
    "Information from the earliest confirmed cases of COVID-19 indicates that some groups of people are at a higher risk for infection than others. Public health organizations like the WHO and US CDC have released warnings for those at higher risk to take extra precautionary measures. To help DAI and other global development organizations better understand vulnerabilities in the communities in which they work, the DAI Global Health and the Center for Digital Acceleration are tracking these risk factors, in addition to other potential correlates to mortality rates. \n",
    "\n",
    "In this first of a multi-part series, we will keep an updated record of demographic, socio-economic, and environmental factors that are perceived to being correlated with heightened risk of mortality and identify known country and subnational datasets that can help us identify countries at risk. We will also provide charts and maps to identify potential country level “hotspots.” \n"
   ]
  },
  {
   "cell_type": "markdown",
   "metadata": {},
   "source": [
    "# Theories\n",
    "\n",
    "### (THIS SECTION WILL BE UPDATED AS WE LEARN MORE ABOUT RISK FACTORS)\n",
    "\n",
    "Below is a list of factors that have emerged as known drivers of increasing risk of mortality. Some of these theories are based on information released by official public health bodies while others are factors that could be proxies. As we learn more about possible drivers from the medical community, we will update this analysis with new datasets when possible.\n",
    "1.\tPeople over the age of 65+ are at higher risk (CDC)\n",
    "2.\tPeople who smoke are at higher risk (CDC)\n",
    "3.  People living in countries with higher air pollution are at higher risk\n",
    "4.  People who have serious chronic medical conditions are at higher risk (CDC). These conditions include:\n",
    "  1. Heart disease\n",
    "  2. Diabetes\n",
    "  3. Lung disease\n",
    "5.\tPeople who have hypertension are at higher risk (Bloomberg News)"
   ]
  },
  {
   "cell_type": "code",
   "execution_count": 3,
   "metadata": {},
   "outputs": [
    {
     "data": {
      "text/html": [
       "<div>\n",
       "<style scoped>\n",
       "    .dataframe tbody tr th:only-of-type {\n",
       "        vertical-align: middle;\n",
       "    }\n",
       "\n",
       "    .dataframe tbody tr th {\n",
       "        vertical-align: top;\n",
       "    }\n",
       "\n",
       "    .dataframe thead th {\n",
       "        text-align: right;\n",
       "    }\n",
       "</style>\n",
       "<table border=\"1\" class=\"dataframe\">\n",
       "  <thead>\n",
       "    <tr style=\"text-align: right;\">\n",
       "      <th></th>\n",
       "      <th>NAME_ENGLI</th>\n",
       "      <th>ID_0</th>\n",
       "      <th>ISO3</th>\n",
       "      <th>Population (2018)</th>\n",
       "      <th>Covid_Infections</th>\n",
       "      <th>Covid_Deaths</th>\n",
       "      <th>pop_over_65</th>\n",
       "      <th>Air Pollution</th>\n",
       "      <th>CCKP Projected Median Temperatures for Jan 2020 (2012)</th>\n",
       "      <th>DALYs Asthma (2017)</th>\n",
       "      <th>...</th>\n",
       "      <th>Total Trade w USA(2017)</th>\n",
       "      <th>Percent of Country Trade with China (2017)</th>\n",
       "      <th>Percent of Country Trade with Italy (2017)</th>\n",
       "      <th>Percent of Country Trade with S Korea (2017)</th>\n",
       "      <th>Percent of Country Trade with USA (2017)</th>\n",
       "      <th>Trade to GDP (2017)</th>\n",
       "      <th>DALYs, Cardiovascular Disease (2017)</th>\n",
       "      <th>DALYs, Chronic Respiratory Disease (2017)</th>\n",
       "      <th>Hospital Beds per 1000 people (2013)</th>\n",
       "      <th>Physicians per 1000 people (2015)</th>\n",
       "    </tr>\n",
       "  </thead>\n",
       "  <tbody>\n",
       "    <tr>\n",
       "      <th>0</th>\n",
       "      <td>Aruba</td>\n",
       "      <td>14</td>\n",
       "      <td>ABW</td>\n",
       "      <td>105845.0</td>\n",
       "      <td>NaN</td>\n",
       "      <td>NaN</td>\n",
       "      <td>13.550950</td>\n",
       "      <td>NaN</td>\n",
       "      <td>25.28</td>\n",
       "      <td>NaN</td>\n",
       "      <td>...</td>\n",
       "      <td>1.000000e+09</td>\n",
       "      <td>0.01090</td>\n",
       "      <td>0.00277</td>\n",
       "      <td>0.01380</td>\n",
       "      <td>0.4490</td>\n",
       "      <td>146.04880</td>\n",
       "      <td>NaN</td>\n",
       "      <td>NaN</td>\n",
       "      <td>NaN</td>\n",
       "      <td>NaN</td>\n",
       "    </tr>\n",
       "    <tr>\n",
       "      <th>1</th>\n",
       "      <td>Afghanistan</td>\n",
       "      <td>1</td>\n",
       "      <td>AFG</td>\n",
       "      <td>37172386.0</td>\n",
       "      <td>NaN</td>\n",
       "      <td>NaN</td>\n",
       "      <td>2.584927</td>\n",
       "      <td>56.91081</td>\n",
       "      <td>-1.72</td>\n",
       "      <td>0.01126</td>\n",
       "      <td>...</td>\n",
       "      <td>9.550000e+08</td>\n",
       "      <td>0.04630</td>\n",
       "      <td>0.00173</td>\n",
       "      <td>0.00637</td>\n",
       "      <td>0.0813</td>\n",
       "      <td>51.23688</td>\n",
       "      <td>0.100616</td>\n",
       "      <td>0.022054</td>\n",
       "      <td>0.5</td>\n",
       "      <td>0.2907</td>\n",
       "    </tr>\n",
       "    <tr>\n",
       "      <th>2</th>\n",
       "      <td>Angola</td>\n",
       "      <td>8</td>\n",
       "      <td>AGO</td>\n",
       "      <td>30809762.0</td>\n",
       "      <td>NaN</td>\n",
       "      <td>NaN</td>\n",
       "      <td>2.216374</td>\n",
       "      <td>32.38850</td>\n",
       "      <td>23.52</td>\n",
       "      <td>0.00818</td>\n",
       "      <td>...</td>\n",
       "      <td>3.360000e+09</td>\n",
       "      <td>0.47399</td>\n",
       "      <td>0.01490</td>\n",
       "      <td>0.01140</td>\n",
       "      <td>0.0727</td>\n",
       "      <td>52.25682</td>\n",
       "      <td>0.046202</td>\n",
       "      <td>0.017395</td>\n",
       "      <td>NaN</td>\n",
       "      <td>NaN</td>\n",
       "    </tr>\n",
       "    <tr>\n",
       "      <th>3</th>\n",
       "      <td>Anguilla</td>\n",
       "      <td>9</td>\n",
       "      <td>AIA</td>\n",
       "      <td>30809762.0</td>\n",
       "      <td>NaN</td>\n",
       "      <td>NaN</td>\n",
       "      <td>2.216374</td>\n",
       "      <td>32.38850</td>\n",
       "      <td>24.92</td>\n",
       "      <td>NaN</td>\n",
       "      <td>...</td>\n",
       "      <td>6.378128e+07</td>\n",
       "      <td>NaN</td>\n",
       "      <td>0.00297</td>\n",
       "      <td>0.00109</td>\n",
       "      <td>0.6080</td>\n",
       "      <td>NaN</td>\n",
       "      <td>NaN</td>\n",
       "      <td>NaN</td>\n",
       "      <td>NaN</td>\n",
       "      <td>NaN</td>\n",
       "    </tr>\n",
       "    <tr>\n",
       "      <th>4</th>\n",
       "      <td>Åland</td>\n",
       "      <td>3</td>\n",
       "      <td>ALA</td>\n",
       "      <td>30809762.0</td>\n",
       "      <td>NaN</td>\n",
       "      <td>NaN</td>\n",
       "      <td>2.216374</td>\n",
       "      <td>32.38850</td>\n",
       "      <td>NaN</td>\n",
       "      <td>NaN</td>\n",
       "      <td>...</td>\n",
       "      <td>NaN</td>\n",
       "      <td>NaN</td>\n",
       "      <td>NaN</td>\n",
       "      <td>NaN</td>\n",
       "      <td>NaN</td>\n",
       "      <td>NaN</td>\n",
       "      <td>NaN</td>\n",
       "      <td>NaN</td>\n",
       "      <td>NaN</td>\n",
       "      <td>NaN</td>\n",
       "    </tr>\n",
       "  </tbody>\n",
       "</table>\n",
       "<p>5 rows × 32 columns</p>\n",
       "</div>"
      ],
      "text/plain": [
       "    NAME_ENGLI  ID_0 ISO3  Population (2018)  Covid_Infections  Covid_Deaths  \\\n",
       "0        Aruba    14  ABW           105845.0               NaN           NaN   \n",
       "1  Afghanistan     1  AFG         37172386.0               NaN           NaN   \n",
       "2       Angola     8  AGO         30809762.0               NaN           NaN   \n",
       "3     Anguilla     9  AIA         30809762.0               NaN           NaN   \n",
       "4        Åland     3  ALA         30809762.0               NaN           NaN   \n",
       "\n",
       "   pop_over_65  Air Pollution  \\\n",
       "0    13.550950            NaN   \n",
       "1     2.584927       56.91081   \n",
       "2     2.216374       32.38850   \n",
       "3     2.216374       32.38850   \n",
       "4     2.216374       32.38850   \n",
       "\n",
       "   CCKP Projected Median Temperatures for Jan 2020 (2012) DALYs Asthma (2017)  \\\n",
       "0                                              25.28                      NaN   \n",
       "1                                              -1.72                  0.01126   \n",
       "2                                              23.52                  0.00818   \n",
       "3                                              24.92                      NaN   \n",
       "4                                                NaN                      NaN   \n",
       "\n",
       "   ...  Total Trade w USA(2017)  Percent of Country Trade with China (2017)  \\\n",
       "0  ...             1.000000e+09                                     0.01090   \n",
       "1  ...             9.550000e+08                                     0.04630   \n",
       "2  ...             3.360000e+09                                     0.47399   \n",
       "3  ...             6.378128e+07                                         NaN   \n",
       "4  ...                      NaN                                         NaN   \n",
       "\n",
       "   Percent of Country Trade with Italy (2017)  \\\n",
       "0                                     0.00277   \n",
       "1                                     0.00173   \n",
       "2                                     0.01490   \n",
       "3                                     0.00297   \n",
       "4                                         NaN   \n",
       "\n",
       "   Percent of Country Trade with S Korea (2017)  \\\n",
       "0                                       0.01380   \n",
       "1                                       0.00637   \n",
       "2                                       0.01140   \n",
       "3                                       0.00109   \n",
       "4                                           NaN   \n",
       "\n",
       "   Percent of Country Trade with USA (2017)  Trade to GDP (2017)  \\\n",
       "0                                    0.4490            146.04880   \n",
       "1                                    0.0813             51.23688   \n",
       "2                                    0.0727             52.25682   \n",
       "3                                    0.6080                  NaN   \n",
       "4                                       NaN                  NaN   \n",
       "\n",
       "   DALYs, Cardiovascular Disease (2017)  \\\n",
       "0                                   NaN   \n",
       "1                              0.100616   \n",
       "2                              0.046202   \n",
       "3                                   NaN   \n",
       "4                                   NaN   \n",
       "\n",
       "   DALYs, Chronic Respiratory Disease (2017)  \\\n",
       "0                                        NaN   \n",
       "1                                   0.022054   \n",
       "2                                   0.017395   \n",
       "3                                        NaN   \n",
       "4                                        NaN   \n",
       "\n",
       "   Hospital Beds per 1000 people (2013)  Physicians per 1000 people (2015)  \n",
       "0                                   NaN                                NaN  \n",
       "1                                   0.5                             0.2907  \n",
       "2                                   NaN                                NaN  \n",
       "3                                   NaN                                NaN  \n",
       "4                                   NaN                                NaN  \n",
       "\n",
       "[5 rows x 32 columns]"
      ]
     },
     "execution_count": 3,
     "metadata": {},
     "output_type": "execute_result"
    }
   ],
   "source": [
    "factor_df = pd.read_csv('https://docs.google.com/spreadsheets/d/e/2PACX-1vQ9Puqir6LrosixgUrjvXW09b58RzIsMOIdU1AmTqdTPM-Uki2nma39SGSN9ZzkqVQid8m6DT7nSHvq/pub?gid=0&single=true&output=csv')\n",
    "factor_df.head()"
   ]
  },
  {
   "cell_type": "code",
   "execution_count": 4,
   "metadata": {},
   "outputs": [],
   "source": [
    "# read in covid data\n",
    "url = 'https://raw.githubusercontent.com/CSSEGISandData/COVID-19/master/csse_covid_19_data/csse_covid_19_daily_reports/03-16-2020.csv'\n",
    "covid_df = pd.read_csv(url)"
   ]
  },
  {
   "cell_type": "markdown",
   "metadata": {},
   "source": [
    "# Mapping"
   ]
  },
  {
   "cell_type": "code",
   "execution_count": 5,
   "metadata": {},
   "outputs": [],
   "source": [
    "# load world geojson file\n",
    "with open('countries.geojson') as f:\n",
    "    world_area = json.load(f)"
   ]
  },
  {
   "cell_type": "code",
   "execution_count": 6,
   "metadata": {},
   "outputs": [],
   "source": [
    "# function to create choropleth map with COVID case overlay\n",
    "def create_map(factor_df, covid_df, variable_name, world_area):\n",
    "    # initialize the map\n",
    "    world_map = folium.Map(tiles='Mapbox Bright')\n",
    "    \n",
    "    # add choropleth base\n",
    "    folium.Choropleth(\n",
    "        geo_data=world_area,\n",
    "        name=variable_name,\n",
    "        data=factor_df,\n",
    "        columns=['ISO3', variable_name],\n",
    "        key_on='feature.properties.ISO_A3',\n",
    "        fill_color='BuPu',\n",
    "        fill_opacity=0.7,\n",
    "        line_opacity=0.2,\n",
    "        nan_fill_opacity=0,\n",
    "        highlight=True,\n",
    "        legend_name=variable_name).add_to(world_map)\n",
    "    \n",
    "    # add covid data - confirmed cases only\n",
    "    #for i,row in covid_df.iterrows():\n",
    "    #    if row.Confirmed != 0:\n",
    "    #        tooltip = 'Country/Region: ' + row['Country/Region'] + '<br>' + 'Province/State: ' + str(row['Province/State'])+ '<br>' + 'Confirmed Cases: ' + str(row.Confirmed)\n",
    "    #        folium.CircleMarker((row.Latitude,row.Longitude), radius=row.Confirmed/1000, color='red', fill_color='red', fill_opacity=.5, tooltip=tooltip).add_to(world_map)\n",
    "    #folium.LayerControl().add_to(world_map)\n",
    "\n",
    "    # save map as html for interactivity\n",
    "    world_map.save('docs/images/'+variable_name+'.html')\n",
    "    \n",
    "    return None"
   ]
  },
  {
   "cell_type": "code",
   "execution_count": 8,
   "metadata": {},
   "outputs": [],
   "source": [
    "#for x in factor_df.columns[6:]:\n",
    "create_map(factor_df, covid_df,'Prevalence Diabetes (2019)', world_area)"
   ]
  },
  {
   "cell_type": "markdown",
   "metadata": {},
   "source": [
    "# Charting\n"
   ]
  },
  {
   "cell_type": "code",
   "execution_count": 10,
   "metadata": {},
   "outputs": [],
   "source": [
    "import matplotlib.pyplot as plt\n",
    "from matplotlib.pyplot import figure, imshow, axis\n",
    "from matplotlib.image import imread\n",
    "plt.style.use('ggplot')"
   ]
  },
  {
   "cell_type": "code",
   "execution_count": 60,
   "metadata": {},
   "outputs": [],
   "source": [
    "# function to create standard bar chart\n",
    "def create_bar(factor_df, variable_name):\n",
    "    # sort by value & drop nulls\n",
    "    factor2_df = factor_df.dropna(subset=[variable_name]).sort_values(by=[variable_name]).tail(25)\n",
    "    \n",
    "    # plot\n",
    "    plt.figure(figsize=(10,10))\n",
    "    plt.barh(factor2_df['NAME_ENGLI'], factor2_df[variable_name], color='#a1c7e3')\n",
    "    plt.title('Diabetes Prevalence')\n",
    "    plt.xlabel('Percentage')\n",
    "    \n",
    "    # save as png\n",
    "    plt.savefig('docs/images/'+variable_name +'_bar.png')\n",
    "    return None"
   ]
  },
  {
   "cell_type": "code",
   "execution_count": 61,
   "metadata": {
    "scrolled": true
   },
   "outputs": [
    {
     "data": {
      "image/png": "[encoded data removed]",
      "text/plain": [
       "<Figure size 720x720 with 1 Axes>"
      ]
     },
     "metadata": {},
     "output_type": "display_data"
    }
   ],
   "source": [
    "# loop through all variables and create bar charts\n",
    "create_bar(factor_df, 'Prevalence Diabetes (2019)')"
   ]
  },
  {
   "cell_type": "code",
   "execution_count": 59,
   "metadata": {
    "scrolled": true
   },
   "outputs": [
    {
     "data": {
      "image/png": "[encoded data removed]",
      "text/plain": [
       "<Figure size 720x720 with 1 Axes>"
      ]
     },
     "metadata": {},
     "output_type": "display_data"
    }
   ],
   "source": [
    "# histogram for factor 1\n",
    "plt.figure(figsize=(10,10))\n",
    "plt.hist(factor_df['Prevalence Diabetes (2019)'], bins=20, width=1, color='#a1c7e3')\n",
    "plt.xlabel('Percentage')\n",
    "plt.ylabel('Frequency')\n",
    "plt.title('Diabetes Prevalence')\n",
    "plt.savefig('docs/images/Prevalence Diabetes (2019)_hist.png')"
   ]
  },
  {
   "cell_type": "markdown",
   "metadata": {},
   "source": [
    "# Factor 1: Age\n",
    "Age has been noted by all official public health organizations as a risk for getting very sick from COVID-19, specifically older adults. Data from the earliest cases in China, Italy, and South Korea have shown that mortality rates are higher among older adults. Using data from the World Bank in 2018, we looked at the percentage of the population aged 65 years old and older in each country. The map below shows the global distribution of these older adults - the darker color indicates a larger percentage of the country population while the lighter indicates a smaller percentage."
   ]
  },
  {
   "cell_type": "code",
   "execution_count": 63,
   "metadata": {},
   "outputs": [
    {
     "data": {
      "text/html": [
       "\n",
       "        <iframe\n",
       "            width=\"700\"\n",
       "            height=\"600\"\n",
       "            src=\"docs/images/pop_over_65.html\"\n",
       "            frameborder=\"0\"\n",
       "            allowfullscreen\n",
       "        ></iframe>\n",
       "        "
      ],
      "text/plain": [
       "<IPython.lib.display.IFrame at 0x1b7cde50>"
      ]
     },
     "execution_count": 63,
     "metadata": {},
     "output_type": "execute_result"
    }
   ],
   "source": [
    "from IPython.display import Image, IFrame\n",
    "IFrame(src='docs/images/pop_over_65.html', width=700, height=600)"
   ]
  },
  {
   "cell_type": "markdown",
   "metadata": {},
   "source": [
    "Here we've ranked the top 25 countries by their population percentage of older adults. Japan tops the list at 27.6% while Italy ranks second in the world with over 22.8% of the country aged 65 years or older."
   ]
  },
  {
   "cell_type": "code",
   "execution_count": null,
   "metadata": {},
   "outputs": [],
   "source": [
    "Image('docs/images/pop_over_65_bar.png')"
   ]
  },
  {
   "cell_type": "markdown",
   "metadata": {},
   "source": [
    "Finally, we looked at the distribution of countries. Most countries have an older population that makes up between 0-13% of the entire country population. However, there is also a smaller group of countries with a slightly higher percentage of older adults - indicated by the second peak in the graph - ranging between 15-20% of the country population."
   ]
  },
  {
   "cell_type": "code",
   "execution_count": null,
   "metadata": {},
   "outputs": [],
   "source": [
    "Image('docs/images/pop_over_65_hist.png')"
   ]
  },
  {
   "cell_type": "markdown",
   "metadata": {},
   "source": [
    "## Factor 5: Respiratory Condition\n",
    "Respiratory conditions put people at higher risk for COVID-19. [Symptoms of the virus](https://www.sciencedirect.com/science/article/pii/S0896841120300469?via%3Dihub) include pneumonia, sneezing, and sore throat - all conditions that affect the respiratory system. We used data from the Global Burden of Disease Study 2017 to identify disease burden (measured in DALYs) due to all chronic respiratory diseases. This broader category of diseases includes silicosis, asthma, and lung disease.\n",
    "\n",
    "No major trends appear in the map below although we can see a mild concentration of respiratory conditions in Southeast Asia. North Korea and Papua New Guinea, however, are most affected by these conditions."
   ]
  },
  {
   "cell_type": "code",
   "execution_count": 64,
   "metadata": {},
   "outputs": [
    {
     "data": {
      "text/html": [
       "\n",
       "        <iframe\n",
       "            width=\"700\"\n",
       "            height=\"600\"\n",
       "            src=\"images/DALYs, Chronic Respiratory Disease (2017).html\"\n",
       "            frameborder=\"0\"\n",
       "            allowfullscreen\n",
       "        ></iframe>\n",
       "        "
      ],
      "text/plain": [
       "<IPython.lib.display.IFrame at 0x1b723be0>"
      ]
     },
     "execution_count": 64,
     "metadata": {},
     "output_type": "execute_result"
    }
   ],
   "source": [
    "IFrame(src='images/DALYs, Chronic Respiratory Disease (2017).html', width=700, height=600)"
   ]
  }
 ],
 "metadata": {
  "kernelspec": {
   "display_name": "Python 3",
   "language": "python",
   "name": "python3"
  },
  "language_info": {
   "codemirror_mode": {
    "name": "ipython",
    "version": 3
   },
   "file_extension": ".py",
   "mimetype": "text/x-python",
   "name": "python",
   "nbconvert_exporter": "python",
   "pygments_lexer": "ipython3",
   "version": "3.8.2"
  }
 },
 "nbformat": 4,
 "nbformat_minor": 4
}
