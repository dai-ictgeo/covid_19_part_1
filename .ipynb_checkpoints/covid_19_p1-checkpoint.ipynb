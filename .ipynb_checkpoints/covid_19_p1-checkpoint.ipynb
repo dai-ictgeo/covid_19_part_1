{
 "cells": [
  {
   "cell_type": "code",
   "execution_count": 89,
   "metadata": {},
   "outputs": [],
   "source": [
    "import pandas as pd\n",
    "import folium\n",
    "import json\n",
    "from folium import plugins"
   ]
  },
  {
   "cell_type": "markdown",
   "metadata": {},
   "source": [
    "# Background\n",
    "As COVID-19 continues to spread across the world, one of the greatest challenges to response efforts is a lack of data and evidence about infection and mortality rates. We will learn more about the virus and the  populations most at risk as more test kits arrive in the hands of physicians and the total number of cases becomes clearer. Ideally, this information will be used to help target response efforts, guide policy decisions, inform the donor community, and support decision-making by businesses and multinational organizations whose work spans multiple countries. As a global development company with staff in over ___ countries, this kind of information is invaluable, as we think about ways to support our staff, and prepare for what comes next.\n",
    "\n",
    "Information from the earliest confirmed cases of COVID-19 indicates that some groups of people are at a higher risk for infection than others. Public health organizations like the WHO and US CDC have released warnings for those at higher risk to take extra precautionary measures. To help DAI and other global development organizations better understand vulnerabilities in the communities in which they work, the DAI Global Health and the Center for Digital Acceleration are tracking these risk factors, in addition to other potential correlates to mortality rates. \n",
    "\n",
    "In this first of a multi-part series, we will keep an updated record of demographic, socio-economic, and environmental factors that are perceived to being correlated with heightened risk of mortality and identify known country and subnational datasets that can help us identify countries at risk. We will also provide charts and maps to identify potential country level “hotspots.” \n"
   ]
  },
  {
   "cell_type": "markdown",
   "metadata": {},
   "source": [
    "# Theories\n",
    "\n",
    "### (THIS SECTION WILL BE UPDATED AS WE LEARN MORE ABOUT RISK FACTORS)\n",
    "\n",
    "Below is a list of factors that have emerged as known drivers of increasing risk of mortality. Some of these theories are based on information released by official public health bodies while others are factors that could be proxies. As we learn more about possible drivers from the medical community, we will update this analysis with new datasets when possible.\n",
    "1.\tPeople over the age of 65+ are at higher risk (CDC)\n",
    "2.\tPeople who smoke are at higher risk (CDC)\n",
    "3.\tPeople who have serious chronic medical conditions are at higher risk (CDC). These conditions include:\n",
    "a.\tHeart disease\n",
    "b.\tDiabetes\n",
    "c.\tLung disease\n",
    "4.\tPeople who have hypertension are at higher risk (Bloomberg News)\n",
    "5.\tPeople who work in industry are at higher risk\n",
    "6.\tPeople living in countries with higher air pollution are at higher risk\n",
    "7.\tPeople living in countries with higher inward Foreign Direct Investment are at higher risk\n",
    "8.\tPeople living in countries with lower preparedness scores are at higher risk\n",
    "9.\tPeople living in countries with lower Global Health Security Index scores are at higher risk\n",
    "10.\tTemperature is correlated with COVID-19 mortality\n"
   ]
  },
  {
   "cell_type": "code",
   "execution_count": null,
   "metadata": {},
   "outputs": [],
   "source": [
    "factor_df = pd.read_csv('https://docs.google.com/spreadsheets/d/e/2PACX-1vQ9Puqir6LrosixgUrjvXW09b58RzIsMOIdU1AmTqdTPM-Uki2nma39SGSN9ZzkqVQid8m6DT7nSHvq/pub?gid=0&single=true&output=csv')\n",
    "factor_df.head()"
   ]
  },
  {
   "cell_type": "code",
   "execution_count": 107,
   "metadata": {},
   "outputs": [
    {
     "data": {
      "text/html": [
       "<div>\n",
       "<style scoped>\n",
       "    .dataframe tbody tr th:only-of-type {\n",
       "        vertical-align: middle;\n",
       "    }\n",
       "\n",
       "    .dataframe tbody tr th {\n",
       "        vertical-align: top;\n",
       "    }\n",
       "\n",
       "    .dataframe thead th {\n",
       "        text-align: right;\n",
       "    }\n",
       "</style>\n",
       "<table border=\"1\" class=\"dataframe\">\n",
       "  <thead>\n",
       "    <tr style=\"text-align: right;\">\n",
       "      <th></th>\n",
       "      <th>Province/State</th>\n",
       "      <th>Country/Region</th>\n",
       "      <th>Last Update</th>\n",
       "      <th>Confirmed</th>\n",
       "      <th>Deaths</th>\n",
       "      <th>Recovered</th>\n",
       "      <th>Latitude</th>\n",
       "      <th>Longitude</th>\n",
       "    </tr>\n",
       "  </thead>\n",
       "  <tbody>\n",
       "    <tr>\n",
       "      <th>0</th>\n",
       "      <td>Hubei</td>\n",
       "      <td>China</td>\n",
       "      <td>2020-03-11T10:53:02</td>\n",
       "      <td>67773</td>\n",
       "      <td>3046</td>\n",
       "      <td>49134</td>\n",
       "      <td>30.9756</td>\n",
       "      <td>112.2707</td>\n",
       "    </tr>\n",
       "    <tr>\n",
       "      <th>1</th>\n",
       "      <td>NaN</td>\n",
       "      <td>Italy</td>\n",
       "      <td>2020-03-11T21:33:02</td>\n",
       "      <td>12462</td>\n",
       "      <td>827</td>\n",
       "      <td>1045</td>\n",
       "      <td>43.0000</td>\n",
       "      <td>12.0000</td>\n",
       "    </tr>\n",
       "    <tr>\n",
       "      <th>2</th>\n",
       "      <td>NaN</td>\n",
       "      <td>Iran</td>\n",
       "      <td>2020-03-11T18:52:03</td>\n",
       "      <td>9000</td>\n",
       "      <td>354</td>\n",
       "      <td>2959</td>\n",
       "      <td>32.0000</td>\n",
       "      <td>53.0000</td>\n",
       "    </tr>\n",
       "    <tr>\n",
       "      <th>3</th>\n",
       "      <td>NaN</td>\n",
       "      <td>Korea, South</td>\n",
       "      <td>2020-03-11T21:13:18</td>\n",
       "      <td>7755</td>\n",
       "      <td>60</td>\n",
       "      <td>288</td>\n",
       "      <td>36.0000</td>\n",
       "      <td>128.0000</td>\n",
       "    </tr>\n",
       "    <tr>\n",
       "      <th>4</th>\n",
       "      <td>France</td>\n",
       "      <td>France</td>\n",
       "      <td>2020-03-11T22:53:03</td>\n",
       "      <td>2281</td>\n",
       "      <td>48</td>\n",
       "      <td>12</td>\n",
       "      <td>46.2276</td>\n",
       "      <td>2.2137</td>\n",
       "    </tr>\n",
       "  </tbody>\n",
       "</table>\n",
       "</div>"
      ],
      "text/plain": [
       "  Province/State Country/Region          Last Update  Confirmed  Deaths  \\\n",
       "0          Hubei          China  2020-03-11T10:53:02      67773    3046   \n",
       "1            NaN          Italy  2020-03-11T21:33:02      12462     827   \n",
       "2            NaN           Iran  2020-03-11T18:52:03       9000     354   \n",
       "3            NaN   Korea, South  2020-03-11T21:13:18       7755      60   \n",
       "4         France         France  2020-03-11T22:53:03       2281      48   \n",
       "\n",
       "   Recovered  Latitude  Longitude  \n",
       "0      49134   30.9756   112.2707  \n",
       "1       1045   43.0000    12.0000  \n",
       "2       2959   32.0000    53.0000  \n",
       "3        288   36.0000   128.0000  \n",
       "4         12   46.2276     2.2137  "
      ]
     },
     "execution_count": 107,
     "metadata": {},
     "output_type": "execute_result"
    }
   ],
   "source": [
    "covid_df = pd.read_csv('03-11-2020.csv')\n",
    "covid_df.head()"
   ]
  },
  {
   "cell_type": "code",
   "execution_count": 108,
   "metadata": {},
   "outputs": [],
   "source": [
    "# load world geojson file\n",
    "with open('countries.geojson') as f:\n",
    "    world_area = json.load(f)"
   ]
  },
  {
   "cell_type": "code",
   "execution_count": 111,
   "metadata": {},
   "outputs": [],
   "source": [
    "def create_map(factor_df, covid_df, variable_name, world_area):\n",
    "    # initialize the map\n",
    "    world_map = folium.Map(tiles='Mapbox Bright')\n",
    "    \n",
    "    # add chloropleth base\n",
    "    folium.Choropleth(\n",
    "        geo_data=world_area,\n",
    "        name=variable_name,\n",
    "        data=factor_df,\n",
    "        columns=['ISO3', variable_name],\n",
    "        key_on='feature.properties.ISO_A3',\n",
    "        fill_color='YlGn',\n",
    "        fill_opacity=0.7,\n",
    "        line_opacity=0.2,\n",
    "        legend_name=variable_name).add_to(world_map)\n",
    "    \n",
    "    # add covid data - confirmed cases only\n",
    "    for i,row in covid_df.iterrows():\n",
    "        if row.Confirmed != 0:\n",
    "            tooltip = 'Country/Region: ' + row['Country/Region'] + '<br>' + 'Province/State: ' + str(row['Province/State'])+ '<br>' + 'Confirmed Cases: ' + str(row.Confirmed)\n",
    "            folium.CircleMarker((row.Latitude,row.Longitude), radius=row.Confirmed/1500, weight=2, color='red', fill_color='red', fill_opacity=.5, tooltip=tooltip).add_to(world_map)\n",
    "    \n",
    "    # save map as html\n",
    "    world_map.save(variable_name+'.html')\n",
    "    \n",
    "    return None"
   ]
  },
  {
   "cell_type": "code",
   "execution_count": null,
   "metadata": {},
   "outputs": [
    {
     "name": "stdout",
     "output_type": "stream",
     "text": [
      "% Age (65+)\n",
      "Air Pollution\n",
      "CCKP Projected Median Temperatures for Jan 2020 (2012)\n",
      "Percent Asthmatic (2017)\n",
      "Pecent Smoker (2016)\n",
      "Percent High Blood Pressure (2015)\n",
      "Prevalence Diabetes (2019)\n",
      "Preparedness (2017)\n",
      "Global Health Security Index (2019)\n",
      "Percent of Labor Force in Industry (2019)\n",
      "Percent of Labor Force in Industry (Female) (2019)\n",
      "Percent of Labor Force in Industry (Male) (2019)\n",
      "Total Trade (Exp + Imp) (2017)\n",
      "Total Trade w China (2017)\n",
      "Total Trade w Italy (2017)\n",
      "Total Trade w S Korea (2017)\n",
      "Total Trade w USA(2017)\n"
     ]
    }
   ],
   "source": [
    "for x in factor_df.columns[6:]:\n",
    "    create_map(factor_df, covid_df, x, world_area)"
   ]
  },
  {
   "cell_type": "code",
   "execution_count": 87,
   "metadata": {},
   "outputs": [],
   "source": []
  },
  {
   "cell_type": "code",
   "execution_count": null,
   "metadata": {},
   "outputs": [],
   "source": []
  }
 ],
 "metadata": {
  "kernelspec": {
   "display_name": "Python 3",
   "language": "python",
   "name": "python3"
  },
  "language_info": {
   "codemirror_mode": {
    "name": "ipython",
    "version": 3
   },
   "file_extension": ".py",
   "mimetype": "text/x-python",
   "name": "python",
   "nbconvert_exporter": "python",
   "pygments_lexer": "ipython3",
   "version": "3.8.2"
  }
 },
 "nbformat": 4,
 "nbformat_minor": 4
}
